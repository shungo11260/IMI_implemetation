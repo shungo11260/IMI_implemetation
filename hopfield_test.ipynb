{
 "cells": [
  {
   "cell_type": "code",
   "execution_count": null,
   "metadata": {},
   "outputs": [],
   "source": [
    "import numpy as np\n",
    "import random\n",
    "import matplotlib.pyplot as plt"
   ]
  },
  {
   "cell_type": "code",
   "execution_count": null,
   "metadata": {},
   "outputs": [],
   "source": [
    "random.randrange(-1, 2, 2)"
   ]
  },
  {
   "cell_type": "code",
   "execution_count": null,
   "metadata": {},
   "outputs": [],
   "source": [
    "plt.subplot(1,6,1)\n",
    "train_data1 = np.ones((5,5))\n",
    "train_data1[0:5, ::4] = -1\n",
    "train_data1[1, 1::2] = -1\n",
    "train_data1[2, ::2] = -1\n",
    "plt.imshow(train_data1, interpolation='nearest', cmap='bone')"
   ]
  },
  {
   "cell_type": "code",
   "execution_count": null,
   "metadata": {},
   "outputs": [],
   "source": [
    "plt.subplot(1,6,2)\n",
    "train_data2 = np.ones((5,5))\n",
    "train_data2[0, 2] = -1\n",
    "train_data2[1, 1::2] = -1\n",
    "train_data2[2:5, ::4] = -1\n",
    "train_data2[3] = -1\n",
    "plt.imshow(train_data2, interpolation='nearest', cmap='bone')"
   ]
  },
  {
   "cell_type": "code",
   "execution_count": null,
   "metadata": {},
   "outputs": [],
   "source": [
    "plt.subplot(1,6,3)\n",
    "train_data3 = np.ones((5,5))\n",
    "train_data3[0] = -1\n",
    "train_data3[1:5, 2] = -1\n",
    "plt.imshow(train_data3, interpolation='nearest', cmap='bone')"
   ]
  },
  {
   "cell_type": "code",
   "execution_count": null,
   "metadata": {},
   "outputs": [],
   "source": [
    "plt.subplot(1,6,4)\n",
    "train_data4 = np.ones((5,5))\n",
    "train_data4[0:5, ::3] = -1\n",
    "train_data4[2, :4] = -1\n",
    "plt.imshow(train_data4, interpolation='nearest', cmap='bone')"
   ]
  },
  {
   "cell_type": "code",
   "execution_count": null,
   "metadata": {},
   "outputs": [],
   "source": [
    "plt.subplot(1,6,5)\n",
    "train_data5 = np.ones((5,5))\n",
    "train_data5[::2] = -1\n",
    "train_data5[0, 4] = 1\n",
    "train_data5[1, 0] = -1\n",
    "train_data5[3, 4] = -1\n",
    "plt.imshow(train_data5, interpolation='nearest', cmap='bone')"
   ]
  },
  {
   "cell_type": "code",
   "execution_count": null,
   "metadata": {},
   "outputs": [],
   "source": [
    "plt.subplot(1,6,6)\n",
    "train_data6 = np.ones((5,5))\n",
    "train_data6[0:3, 1] = -1\n",
    "train_data6[4, 1] = -1\n",
    "plt.imshow(train_data6, interpolation='nearest', cmap='bone')"
   ]
  },
  {
   "cell_type": "code",
   "execution_count": null,
   "metadata": {
    "collapsed": true
   },
   "outputs": [],
   "source": [
    "train_data = []\n",
    "train_data.append(train_data1)\n",
    "train_data.append(train_data2)\n",
    "train_data.append(train_data3)\n",
    "train_data.append(train_data4)\n",
    "train_data.append(train_data5)\n",
    "train_data.append(train_data6)"
   ]
  },
  {
   "cell_type": "code",
   "execution_count": null,
   "metadata": {},
   "outputs": [],
   "source": [
    "plt.show()"
   ]
  },
  {
   "cell_type": "code",
   "execution_count": null,
   "metadata": {
    "collapsed": true
   },
   "outputs": [],
   "source": [
    "def set_weight(data):\n",
    "    vector_size = data.size\n",
    "    vector = data.reshape((vector_size, 1))\n",
    "    weight = np.dot(vector, vector.T) - np.eye(25)\n",
    "    return weight"
   ]
  },
  {
   "cell_type": "code",
   "execution_count": null,
   "metadata": {
    "collapsed": true
   },
   "outputs": [],
   "source": [
    "def update_weight(weight, data, n):\n",
    "    weight = (n*weight + set_weight(data)) / (n+1)\n",
    "    return weight"
   ]
  },
  {
   "cell_type": "code",
   "execution_count": null,
   "metadata": {
    "collapsed": true
   },
   "outputs": [],
   "source": [
    "td_num = 1\n",
    "for i in range(td_num):\n",
    "    W = update_weight(W, train_data[i], i)"
   ]
  },
  {
   "cell_type": "code",
   "execution_count": null,
   "metadata": {
    "collapsed": true
   },
   "outputs": [],
   "source": []
  }
 ],
 "metadata": {
  "kernelspec": {
   "display_name": "Python 3",
   "language": "python",
   "name": "python3"
  },
  "language_info": {
   "codemirror_mode": {
    "name": "ipython",
    "version": 3
   },
   "file_extension": ".py",
   "mimetype": "text/x-python",
   "name": "python",
   "nbconvert_exporter": "python",
   "pygments_lexer": "ipython3",
   "version": "3.6.1"
  }
 },
 "nbformat": 4,
 "nbformat_minor": 2
}

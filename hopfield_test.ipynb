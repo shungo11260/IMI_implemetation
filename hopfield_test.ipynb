{
 "cells": [
  {
   "cell_type": "code",
   "execution_count": 51,
   "metadata": {},
   "outputs": [],
   "source": [
    "import numpy as np\n",
    "import random\n",
    "import matplotlib.pyplot as plt"
   ]
  },
  {
   "cell_type": "code",
   "execution_count": 52,
   "metadata": {},
   "outputs": [
    {
     "data": {
      "text/plain": [
       "1"
      ]
     },
     "execution_count": 52,
     "metadata": {},
     "output_type": "execute_result"
    }
   ],
   "source": [
    "random.randrange(-1, 2, 2)"
   ]
  },
  {
   "cell_type": "code",
   "execution_count": 53,
   "metadata": {},
   "outputs": [
    {
     "data": {
      "text/plain": [
       "<matplotlib.image.AxesImage at 0x7fe5e8952668>"
      ]
     },
     "execution_count": 53,
     "metadata": {},
     "output_type": "execute_result"
    }
   ],
   "source": [
    "subplot(1,6,1)\n",
    "train_data1 = np.ones((5,5))\n",
    "train_data1[0:5, ::4] = -1\n",
    "train_data1[1, 1::2] = -1\n",
    "train_data1[2, ::2] = -1\n",
    "imshow(train_data1, interpolation='nearest', cmap='bone')"
   ]
  },
  {
   "cell_type": "code",
   "execution_count": 54,
   "metadata": {},
   "outputs": [
    {
     "data": {
      "text/plain": [
       "<matplotlib.image.AxesImage at 0x7fe5e839a128>"
      ]
     },
     "execution_count": 54,
     "metadata": {},
     "output_type": "execute_result"
    }
   ],
   "source": [
    "subplot(1,6,2)\n",
    "train_data2 = np.ones((5,5))\n",
    "train_data2[0, 2] = -1\n",
    "train_data2[1, 1::2] = -1\n",
    "train_data2[2:5, ::4] = -1\n",
    "train_data2[3] = -1\n",
    "imshow(train_data2, interpolation='nearest', cmap='bone')"
   ]
  },
  {
   "cell_type": "code",
   "execution_count": 55,
   "metadata": {},
   "outputs": [
    {
     "data": {
      "text/plain": [
       "<matplotlib.image.AxesImage at 0x7fe5e89b7c18>"
      ]
     },
     "execution_count": 55,
     "metadata": {},
     "output_type": "execute_result"
    }
   ],
   "source": [
    "subplot(1,6,3)\n",
    "train_data3 = np.ones((5,5))\n",
    "train_data3[0] = -1\n",
    "train_data3[1:5, 2] = -1\n",
    "imshow(train_data3, interpolation='nearest', cmap='bone')"
   ]
  },
  {
   "cell_type": "code",
   "execution_count": 56,
   "metadata": {},
   "outputs": [
    {
     "data": {
      "text/plain": [
       "<matplotlib.image.AxesImage at 0x7fe5e82e7e48>"
      ]
     },
     "execution_count": 56,
     "metadata": {},
     "output_type": "execute_result"
    }
   ],
   "source": [
    "subplot(1,6,4)\n",
    "train_data4 = np.ones((5,5))\n",
    "train_data4[0:5, ::3] = -1\n",
    "train_data4[2, :4] = -1\n",
    "imshow(train_data4, interpolation='nearest', cmap='bone')"
   ]
  },
  {
   "cell_type": "code",
   "execution_count": 57,
   "metadata": {},
   "outputs": [
    {
     "data": {
      "text/plain": [
       "<matplotlib.image.AxesImage at 0x7fe5e8243d68>"
      ]
     },
     "execution_count": 57,
     "metadata": {},
     "output_type": "execute_result"
    }
   ],
   "source": [
    "subplot(1,6,5)\n",
    "train_data5 = np.ones((5,5))\n",
    "train_data5[::2] = -1\n",
    "train_data5[0, 4] = 1\n",
    "train_data5[1, 0] = -1\n",
    "train_data5[3, 4] = -1\n",
    "imshow(train_data5, interpolation='nearest', cmap='bone')"
   ]
  },
  {
   "cell_type": "code",
   "execution_count": 58,
   "metadata": {},
   "outputs": [
    {
     "data": {
      "text/plain": [
       "<matplotlib.image.AxesImage at 0x7fe5e87fe588>"
      ]
     },
     "execution_count": 58,
     "metadata": {},
     "output_type": "execute_result"
    }
   ],
   "source": [
    "subplot(1,6,6)\n",
    "train_data6 = np.ones((5,5))\n",
    "train_data6[0:3, 1] = -1\n",
    "train_data6[4, 1] = -1\n",
    "imshow(train_data6, interpolation='nearest', cmap='bone')"
   ]
  },
  {
   "cell_type": "code",
   "execution_count": 59,
   "metadata": {},
   "outputs": [
    {
     "data": {
      "image/png": "[encoded data removed]",
      "text/plain": [
       "<matplotlib.figure.Figure at 0x7fe5e8952550>"
      ]
     },
     "metadata": {},
     "output_type": "display_data"
    }
   ],
   "source": [
    "show()"
   ]
  },
  {
   "cell_type": "code",
   "execution_count": null,
   "metadata": {
    "collapsed": true
   },
   "outputs": [],
   "source": []
  }
 ],
 "metadata": {
  "kernelspec": {
   "display_name": "Python 3",
   "language": "python",
   "name": "python3"
  },
  "language_info": {
   "codemirror_mode": {
    "name": "ipython",
    "version": 3
   },
   "file_extension": ".py",
   "mimetype": "text/x-python",
   "name": "python",
   "nbconvert_exporter": "python",
   "pygments_lexer": "ipython3",
   "version": "3.6.1"
  }
 },
 "nbformat": 4,
 "nbformat_minor": 2
}

{
 "cells": [
  {
   "cell_type": "code",
   "execution_count": null,
   "metadata": {
    "collapsed": true
   },
   "outputs": [],
   "source": [
    "import numpy as np\n",
    "import random\n",
    "import matplotlib.pyplot as plt"
   ]
  },
  {
   "cell_type": "code",
   "execution_count": null,
   "metadata": {},
   "outputs": [],
   "source": [
    "plt.subplot(1,6,1)\n",
    "train_data1 = np.ones((5,5))\n",
    "train_data1[0:5, ::4] = -1\n",
    "train_data1[1, 1::2] = -1\n",
    "train_data1[2, ::2] = -1\n",
    "plt.imshow(train_data1, interpolation='nearest', cmap='bone')"
   ]
  },
  {
   "cell_type": "code",
   "execution_count": null,
   "metadata": {},
   "outputs": [],
   "source": [
    "plt.subplot(1,6,2)\n",
    "train_data2 = np.ones((5,5))\n",
    "train_data2[0, 2] = -1\n",
    "train_data2[1, 1::2] = -1\n",
    "train_data2[2:5, ::4] = -1\n",
    "train_data2[3] = -1\n",
    "plt.imshow(train_data2, interpolation='nearest', cmap='bone')"
   ]
  },
  {
   "cell_type": "code",
   "execution_count": null,
   "metadata": {},
   "outputs": [],
   "source": [
    "plt.subplot(1,6,3)\n",
    "train_data3 = np.ones((5,5))\n",
    "train_data3[0] = -1\n",
    "train_data3[1:5, 2] = -1\n",
    "plt.imshow(train_data3, interpolation='nearest', cmap='bone')"
   ]
  },
  {
   "cell_type": "code",
   "execution_count": null,
   "metadata": {},
   "outputs": [],
   "source": [
    "plt.subplot(1,6,4)\n",
    "train_data4 = np.ones((5,5))\n",
    "train_data4[0:5, ::3] = -1\n",
    "train_data4[2, :4] = -1\n",
    "plt.imshow(train_data4, interpolation='nearest', cmap='bone')"
   ]
  },
  {
   "cell_type": "code",
   "execution_count": null,
   "metadata": {},
   "outputs": [],
   "source": [
    "plt.subplot(1,6,5)\n",
    "train_data5 = np.ones((5,5))\n",
    "train_data5[::2] = -1\n",
    "train_data5[0, 4] = 1\n",
    "train_data5[1, 0] = -1\n",
    "train_data5[3, 4] = -1\n",
    "plt.imshow(train_data5, interpolation='nearest', cmap='bone')"
   ]
  },
  {
   "cell_type": "code",
   "execution_count": null,
   "metadata": {},
   "outputs": [],
   "source": [
    "plt.subplot(1,6,6)\n",
    "train_data6 = np.ones((5,5))\n",
    "train_data6[0:3, 1] = -1\n",
    "train_data6[4, 1] = -1\n",
    "plt.imshow(train_data6, interpolation='nearest', cmap='bone')"
   ]
  },
  {
   "cell_type": "code",
   "execution_count": null,
   "metadata": {
    "collapsed": true
   },
   "outputs": [],
   "source": [
    "train_data = []\n",
    "train_data.append(train_data1)\n",
    "train_data.append(train_data2)\n",
    "train_data.append(train_data3)\n",
    "train_data.append(train_data4)\n",
    "train_data.append(train_data5)\n",
    "train_data.append(train_data6)"
   ]
  },
  {
   "cell_type": "code",
   "execution_count": null,
   "metadata": {},
   "outputs": [],
   "source": [
    "plt.show()"
   ]
  },
  {
   "cell_type": "code",
   "execution_count": null,
   "metadata": {
    "collapsed": true
   },
   "outputs": [],
   "source": [
    "def set_weight(data):\n",
    "    vector_size = data.size\n",
    "    vector = data.reshape((vector_size, 1))\n",
    "    weight = np.dot(vector, vector.T) - np.eye(25)\n",
    "    return weight"
   ]
  },
  {
   "cell_type": "code",
   "execution_count": null,
   "metadata": {
    "collapsed": true
   },
   "outputs": [],
   "source": [
    "def update_weight(weight, data, n):\n",
    "    weight = (n*weight + set_weight(data)) / (n+1)\n",
    "    return weight"
   ]
  },
  {
   "cell_type": "code",
   "execution_count": null,
   "metadata": {
    "collapsed": true
   },
   "outputs": [],
   "source": [
    "# make weight as W\n",
    "td_num = 1\n",
    "W = np.zeros((25, 25))\n",
    "for i in range(td_num):\n",
    "    W = update_weight(W, train_data[i], i)"
   ]
  },
  {
   "cell_type": "code",
   "execution_count": null,
   "metadata": {
    "collapsed": true
   },
   "outputs": [],
   "source": [
    "# make thresholod\n",
    "theta = np.zeros((25,1))"
   ]
  },
  {
   "cell_type": "code",
   "execution_count": null,
   "metadata": {
    "collapsed": true
   },
   "outputs": [],
   "source": [
    "def add_noise2td(train_data, percentage):\n",
    "    per = round(percentage*train_data.size)\n",
    "    data = train_data.reshape((train_data.size, 1))\n",
    "    for k in range(per):\n",
    "        n = random.randrange(0, 25)\n",
    "        data[n] = random.randrange(-1, 2, 2)\n",
    "    data = data.reshape((train_data.shape[0], train_data.shape[1]))\n",
    "    return data"
   ]
  },
  {
   "cell_type": "code",
   "execution_count": null,
   "metadata": {
    "collapsed": true
   },
   "outputs": [],
   "source": [
    "# make input data as tdx\n",
    "td1 = add_noise2td(train_data1, 0.5)"
   ]
  },
  {
   "cell_type": "code",
   "execution_count": null,
   "metadata": {},
   "outputs": [],
   "source": [
    "plt.imshow(td1, interpolation='nearest', cmap='bone')\n",
    "plt.show()"
   ]
  },
  {
   "cell_type": "code",
   "execution_count": null,
   "metadata": {
    "collapsed": true
   },
   "outputs": [],
   "source": [
    "def lyapunov_function(input_data, weight, threshold):\n",
    "    in_vec = input_data.reshape((25,1))\n",
    "    V = -(np.dot(np.dot(in_vec.T, weight), in_vec)) + np.dot(threshold.T, in_vec)\n",
    "    return V"
   ]
  },
  {
   "cell_type": "code",
   "execution_count": null,
   "metadata": {
    "collapsed": true
   },
   "outputs": [],
   "source": [
    "def update_input_one_step(input_data, weight, threshold):\n",
    "    x = input_data.reshape((25, 1))\n",
    "    n = random.randrange(0, 25)\n",
    "    x[n] = np.sign(np.dot(weight[n], x) - threshold[n])\n",
    "\n",
    "    return x.reshape((5,5))\n",
    "\n",
    "def update(input_data, weight, threshold, update_num):\n",
    "    V_old = [[0.0]]\n",
    "    for i in range(update_num):\n",
    "        in_da = update_input_one_step(input_data, weight, threshold)\n",
    "        if lyapunov_function(in_da, weight, threshold) == V_old:\n",
    "            break\n",
    "        else:\n",
    "            plt.figure(i)\n",
    "            V_old = lyapunov_function(in_da, weight, threshold)\n",
    "            print(V_old)\n",
    "            plt.imshow(in_da, interpolation='nearest', cmap='bone')\n",
    "    plt.show()"
   ]
  },
  {
   "cell_type": "code",
   "execution_count": null,
   "metadata": {},
   "outputs": [],
   "source": [
    "update(td1, W, theta, 100)"
   ]
  },
  {
   "cell_type": "code",
   "execution_count": null,
   "metadata": {},
   "outputs": [],
   "source": [
    "# update input\n",
    "td1 = update_input_one_step(td1, W)\n",
    "plt.imshow(td1, interpolation='nearest', cmap='bone')\n",
    "plt.show()"
   ]
  },
  {
   "cell_type": "code",
   "execution_count": null,
   "metadata": {},
   "outputs": [],
   "source": [
    "for i in range(10):\n",
    "    td1 = update_input_one_step(td1, W)"
   ]
  },
  {
   "cell_type": "code",
   "execution_count": null,
   "metadata": {},
   "outputs": [],
   "source": [
    "x = x.reshape((5,5))"
   ]
  },
  {
   "cell_type": "code",
   "execution_count": null,
   "metadata": {},
   "outputs": [],
   "source": [
    "plt.imshow(x, interpolation='nearest', cmap='bone')\n",
    "plt.show()"
   ]
  },
  {
   "cell_type": "code",
   "execution_count": null,
   "metadata": {},
   "outputs": [],
   "source": [
    "plt.imshow(td1, interpolation='nearest', cmap='bone')\n",
    "plt.show()"
   ]
  },
  {
   "cell_type": "code",
   "execution_count": null,
   "metadata": {
    "collapsed": true
   },
   "outputs": [],
   "source": []
  },
  {
   "cell_type": "code",
   "execution_count": null,
   "metadata": {
    "collapsed": true
   },
   "outputs": [],
   "source": [
    "x = np.zeros((5, 5))\n",
    "for i in range(x.shape[0]):\n",
    "    for j in range(x.shape[1]):\n",
    "        x[i][j] = random.randrange(-1, 2, 2)\n",
    "plt.imshow(x, interpolation='nearest', cmap='bone')\n",
    "plt.show()"
   ]
  },
  {
   "cell_type": "code",
   "execution_count": null,
   "metadata": {
    "collapsed": true
   },
   "outputs": [],
   "source": []
  }
 ],
 "metadata": {
  "kernelspec": {
   "display_name": "Python 3",
   "language": "python",
   "name": "python3"
  },
  "language_info": {
   "codemirror_mode": {
    "name": "ipython",
    "version": 3
   },
   "file_extension": ".py",
   "mimetype": "text/x-python",
   "name": "python",
   "nbconvert_exporter": "python",
   "pygments_lexer": "ipython3",
   "version": "3.6.1"
  }
 },
 "nbformat": 4,
 "nbformat_minor": 2
}
